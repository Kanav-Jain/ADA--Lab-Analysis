{
  "nbformat": 4,
  "nbformat_minor": 0,
  "metadata": {
    "colab": {
      "name": "Randomized_quick_sort.ipynb",
      "provenance": [],
      "authorship_tag": "ABX9TyNH6HFNJv2XHt0Uq237r8Od",
      "include_colab_link": true
    },
    "kernelspec": {
      "name": "python3",
      "display_name": "Python 3"
    },
    "language_info": {
      "name": "python"
    }
  },
  "cells": [
    {
      "cell_type": "markdown",
      "metadata": {
        "id": "view-in-github",
        "colab_type": "text"
      },
      "source": [
        "<a href=\"https://colab.research.google.com/github/Kanav-Jain/ADA--Lab-Analysis/blob/main/Randomized_quick_sort.ipynb\" target=\"_parent\"><img src=\"https://colab.research.google.com/assets/colab-badge.svg\" alt=\"Open In Colab\"/></a>"
      ]
    },
    {
      "cell_type": "code",
      "metadata": {
        "id": "y8dDBPPWAnGG",
        "colab": {
          "base_uri": "https://localhost:8080/",
          "height": 450
        },
        "outputId": "bbd54895-ae54-48d4-f752-b57f3a13e06c"
      },
      "source": [
        "import random\n",
        "def swap(arr,a,b):\n",
        "  temp = arr[a]\n",
        "  arr[a] = arr[b]\n",
        "  arr[b] = temp\n",
        "\n",
        "def partition(arr,low, last):\n",
        "  pivot_index = low\n",
        "  pivot = arr[low]\n",
        "  i = low\n",
        "  q = last\n",
        "  while True:\n",
        "    while True:\n",
        "      i=i+1\n",
        "      if arr[i] >= pivot:\n",
        "        break\n",
        "    while True:\n",
        "      q = q-1\n",
        "      if arr[q] <= pivot:\n",
        "        break      \n",
        "    if i<q:\n",
        "      swap(arr,i,q)\n",
        "    if i>=q:\n",
        "      break \n",
        "  swap(arr,pivot_index,q)        \n",
        "  return q \n",
        "\n",
        "def r_quick_sort(arr,low,high):\n",
        "  if low<high:\n",
        "    swap(arr,low,random.randrange(low,high))\n",
        "    j = partition(arr,low,high+1)\n",
        "    r_quick_sort(arr,low,j-1)\n",
        "    r_quick_sort(arr,j+1,high)\n",
        "\n",
        "\n",
        "import random\n",
        "import time\n",
        "from datetime import datetime\n",
        "\n",
        "avg = 50\n",
        "graph = []\n",
        "arr_length = list(range(100,1000,100))\n",
        "for i in arr_length:\n",
        "  c = 0\n",
        "  h = []\n",
        "  while c < avg:\n",
        "    n = 0\n",
        "    m = []\n",
        "    \n",
        "    while n < i:\n",
        "        m.append(random.randint(1,1000))\n",
        "        n =  n+1\n",
        "    c = c+1\n",
        "    m.append(random.randint(1001,2000))\n",
        "    # m.sort()  \n",
        "    start_time = datetime.now()\n",
        "    quick_sort(m,0,i)\n",
        "    end_time = datetime.now()\n",
        "    elapsed_time = format(end_time-start_time)\n",
        "    h.append(elapsed_time.split('.')[1:])\n",
        "    r = list(map(''.join,h))\n",
        "    m = [int(i) for i in r]\n",
        "  graph.append(sum(m)/avg)\n",
        "  print(sum(m)/avg)\n",
        "import matplotlib.pyplot as plt\n",
        "  \n",
        "plt.plot(arr_length,graph,marker='o')\n",
        "plt.xlabel('number of array elements')\n",
        "plt.ylabel('average time')\n",
        "plt.ylim(0,10000,1000)    "
      ],
      "execution_count": null,
      "outputs": [
        {
          "output_type": "stream",
          "text": [
            "268.82\n",
            "561.96\n",
            "973.1\n",
            "1286.8\n",
            "1530.24\n",
            "1976.2\n",
            "2240.52\n",
            "2584.08\n",
            "3078.8\n"
          ],
          "name": "stdout"
        },
        {
          "output_type": "execute_result",
          "data": {
            "text/plain": [
              "(0.0, 10000.0)"
            ]
          },
          "metadata": {
            "tags": []
          },
          "execution_count": 24
        },
        {
          "output_type": "display_data",
          "data": {
            "image/png": "[encoded data removed]",
            "text/plain": [
              "<Figure size 432x288 with 1 Axes>"
            ]
          },
          "metadata": {
            "tags": [],
            "needs_background": "light"
          }
        }
      ]
    },
    {
      "cell_type": "code",
      "metadata": {
        "id": "Fo274pgw7Nl_"
      },
      "source": [
        "arr = [65,70,75,80,85,60,55,50,45] \n",
        "high = len(arr)\n",
        "arr.append(100)\n",
        "quick_sort(arr,0,high)"
      ],
      "execution_count": null,
      "outputs": []
    },
    {
      "cell_type": "code",
      "metadata": {
        "colab": {
          "base_uri": "https://localhost:8080/"
        },
        "id": "-GmZA-ce7Uw5",
        "outputId": "4760c530-6ed2-4eac-83d2-69371b378c03"
      },
      "source": [
        "arr"
      ],
      "execution_count": null,
      "outputs": [
        {
          "output_type": "execute_result",
          "data": {
            "text/plain": [
              "[45, 50, 55, 60, 65, 70, 75, 80, 85, 100]"
            ]
          },
          "metadata": {
            "tags": []
          },
          "execution_count": 21
        }
      ]
    },
    {
      "cell_type": "code",
      "metadata": {
        "id": "hmVZf2eu7mjg"
      },
      "source": [
        ""
      ],
      "execution_count": null,
      "outputs": []
    }
  ]
}