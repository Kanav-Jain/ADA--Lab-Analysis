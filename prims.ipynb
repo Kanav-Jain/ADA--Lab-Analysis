{
  "nbformat": 4,
  "nbformat_minor": 5,
  "metadata": {
    "kernelspec": {
      "display_name": "Python 3",
      "language": "python",
      "name": "python3"
    },
    "language_info": {
      "codemirror_mode": {
        "name": "ipython",
        "version": 3
      },
      "file_extension": ".py",
      "mimetype": "text/x-python",
      "name": "python",
      "nbconvert_exporter": "python",
      "pygments_lexer": "ipython3",
      "version": "3.9.1"
    },
    "colab": {
      "name": "prims.ipynb",
      "provenance": [],
      "include_colab_link": true
    }
  },
  "cells": [
    {
      "cell_type": "markdown",
      "metadata": {
        "id": "view-in-github",
        "colab_type": "text"
      },
      "source": [
        "<a href=\"https://colab.research.google.com/github/Kanav-Jain/ADA--Lab-Analysis/blob/main/prims.ipynb\" target=\"_parent\"><img src=\"https://colab.research.google.com/assets/colab-badge.svg\" alt=\"Open In Colab\"/></a>"
      ]
    },
    {
      "cell_type": "code",
      "metadata": {
        "colab": {
          "base_uri": "https://localhost:8080/"
        },
        "id": "alpine-rochester",
        "outputId": "ad4b0c91-5743-4208-a9b2-ca82dfcc5ad7"
      },
      "source": [
        "\n",
        "def Prims(cost,t,n):\n",
        "    mincost=cost[1][1]\n",
        "    \n",
        "    near=[0 for i in range(0,n)]\n",
        "    for k in range(0,n):\n",
        "        for l in range(k+1,n):\n",
        "            if cost[k][l]<mincost:\n",
        "                mincost=cost[k][l]\n",
        "                t[0][0]=k\n",
        "                t[0][1]=l\n",
        "    \n",
        "    k=t[0][0]\n",
        "    l=t[0][1]\n",
        "\n",
        "\n",
        "    for i in range(1,n):\n",
        "        if cost[i][l]<cost[i][k]:\n",
        "            near[i]=l\n",
        "        else:\n",
        "            near[i]=k\n",
        "\n",
        "    near[k]=near[l]=-1\n",
        "\n",
        "\n",
        "    for i in range(1,n-1):\n",
        "        j=0\n",
        "        minm=cost[j][j]\n",
        "        for m in range(1,n):\n",
        "            if near[m]!=-1 and cost[m][near[m]]<minm:\n",
        "                minm=cost[m][near[m]]\n",
        "                j=m\n",
        "        t[i][0]=j\n",
        "        t[i][1]=near[j]\n",
        "        mincost=mincost+minm\n",
        "        near[j]=-1\n",
        "        for k in range(0,n):\n",
        "            if near[k]!=-1 and cost[k][near[k]]>cost[k][j]:\n",
        "                near[k]=j\n",
        "    return mincost\n",
        "\n",
        "\n",
        "\n",
        "\n",
        "\n",
        "\n",
        "\n",
        "#function check\n",
        "n=7\n",
        "infinity = float('inf')\n",
        "\n",
        "cost=[\n",
        "[infinity,14,infinity,infinity,infinity,8,infinity],\n",
        "[14,infinity,14,infinity,infinity,infinity,18],\n",
        "[infinity,14,infinity,12,infinity,infinity,infinity],\n",
        "[infinity,infinity,12,infinity,22,infinity,20],\n",
        "[infinity,infinity,infinity,22,infinity,45,21],\n",
        "[8,infinity,infinity,infinity,45,infinity,infinity],\n",
        "[infinity,18,infinity,20,21,infinity,infinity]\n",
        "]\n",
        "\n",
        "\n",
        "t = [[0 for i in range(2)] for j in range(n-1)]\n",
        "mincost= Prims(cost,t,n)\n",
        "for i in range(0,n-1):\n",
        "    print(t[i][0]+1,\" -- \",t[i][1]+1)\n",
        "print(\"Mincost:-\",mincost)\n",
        "\n"
      ],
      "id": "alpine-rochester",
      "execution_count": null,
      "outputs": [
        {
          "output_type": "stream",
          "text": [
            "1  --  6\n",
            "2  --  1\n",
            "3  --  2\n",
            "4  --  3\n",
            "7  --  2\n",
            "5  --  7\n",
            "Mincost:- 87\n"
          ],
          "name": "stdout"
        }
      ]
    },
    {
      "cell_type": "code",
      "metadata": {
        "id": "CeIn698ugFBa"
      },
      "source": [
        ""
      ],
      "id": "CeIn698ugFBa",
      "execution_count": null,
      "outputs": []
    },
    {
      "cell_type": "code",
      "metadata": {
        "id": "c0VHufYpCOXF"
      },
      "source": [
        ""
      ],
      "id": "c0VHufYpCOXF",
      "execution_count": null,
      "outputs": []
    }
  ]
}