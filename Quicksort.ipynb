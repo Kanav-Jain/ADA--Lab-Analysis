{
  "nbformat": 4,
  "nbformat_minor": 0,
  "metadata": {
    "colab": {
      "name": "Quicksort",
      "provenance": []
    },
    "kernelspec": {
      "name": "python3",
      "display_name": "Python 3"
    },
    "language_info": {
      "name": "python"
    }
  },
  "cells": [
    {
      "cell_type": "code",
      "metadata": {
        "colab": {
          "base_uri": "https://localhost:8080/",
          "height": 450
        },
        "id": "vpxyt6ivmtqM",
        "outputId": "be71bd76-f3e3-4eed-c77c-d5c943e4183b"
      },
      "source": [
        "def swap(arr,a,b):\n",
        "  temp = arr[a]\n",
        "  arr[a] = arr[b]\n",
        "  arr[b] = temp\n",
        "\n",
        "def partition(arr,low, last):\n",
        "  pivot_index = low\n",
        "  pivot = arr[low]\n",
        "  i = low\n",
        "  q = last\n",
        "  while True:\n",
        "    while True:\n",
        "      i=i+1\n",
        "      if arr[i] >= pivot:\n",
        "        break\n",
        "    while True:\n",
        "      q = q-1\n",
        "      if arr[q] <= pivot:\n",
        "        break      \n",
        "    if i<q:\n",
        "      swap(arr,i,q)\n",
        "    if i>=q:\n",
        "      break \n",
        "  swap(arr,pivot_index,q)        \n",
        "  return q \n",
        "\n",
        "def quick_sort(arr,low,high):\n",
        "  if low<high:\n",
        "    j = partition(arr,low,high+1)\n",
        "    quick_sort(arr,low,j-1)\n",
        "    quick_sort(arr,j+1,high)\n",
        "\n",
        "\n",
        "# arr = [65,70,75,80,85,60,55,50,45] \n",
        "# high = len(arr)\n",
        "# arr.append(100)\n",
        "# quick_sort(arr,0,high)\n",
        "\n",
        "import random\n",
        "import time\n",
        "from datetime import datetime\n",
        "\n",
        "avg = 50\n",
        "graph = []\n",
        "arr_length = list(range(100,1000,100))\n",
        "for i in arr_length:\n",
        "  c = 0\n",
        "  h = []\n",
        "  while c < avg:\n",
        "    n = 0\n",
        "    m = []\n",
        "    \n",
        "    while n < i:\n",
        "        m.append(random.randint(1,1000))\n",
        "        n =  n+1\n",
        "    c = c+1\n",
        "    m.append(random.randint(1001,2000))\n",
        "    m.sort()  \n",
        "    start_time = datetime.now()\n",
        "    quick_sort(m,0,i)\n",
        "    end_time = datetime.now()\n",
        "    elapsed_time = format(end_time-start_time)\n",
        "    h.append(elapsed_time.split('.')[1:])\n",
        "    r = list(map(''.join,h))\n",
        "    m = [int(i) for i in r]\n",
        "  graph.append(sum(m)/avg)\n",
        "  print(sum(m)/avg)\n",
        "import matplotlib.pyplot as plt\n",
        "  \n",
        "plt.plot(arr_length,graph,marker='o')\n",
        "plt.xlabel('number of array elements')\n",
        "plt.ylabel('average time')\n",
        "plt.ylim(0,10000,1000)"
      ],
      "execution_count": null,
      "outputs": [
        {
          "output_type": "stream",
          "text": [
            "449.94\n",
            "1513.84\n",
            "3260.62\n",
            "5722.78\n",
            "8757.6\n",
            "12215.72\n",
            "16407.76\n",
            "21233.96\n",
            "25478.76\n"
          ],
          "name": "stdout"
        },
        {
          "output_type": "execute_result",
          "data": {
            "text/plain": [
              "(0.0, 10000.0)"
            ]
          },
          "metadata": {
            "tags": []
          },
          "execution_count": 1
        },
        {
          "output_type": "display_data",
          "data": {
            "image/png": "[encoded data removed]",
            "text/plain": [
              "<Figure size 432x288 with 1 Axes>"
            ]
          },
          "metadata": {
            "tags": [],
            "needs_background": "light"
          }
        }
      ]
    },
    {
      "cell_type": "code",
      "metadata": {
        "id": "npL667YqOCRo"
      },
      "source": [
        ""
      ],
      "execution_count": null,
      "outputs": []
    },
    {
      "cell_type": "code",
      "metadata": {
        "colab": {
          "base_uri": "https://localhost:8080/"
        },
        "id": "BjT6VTViOHoJ",
        "outputId": "5ee518c6-4793-4b2b-c421-a5505ee2ce5a"
      },
      "source": [
        "x = datetime.now()\n",
        "print(x)\n",
        "arr = [65,70,75,80,85,60,55,50,45] \n",
        "high = len(arr)\n",
        "arr.append(100)\n",
        "quick_sort(arr,0,high)\n",
        "y = datetime.now()\n",
        "print(y)\n",
        "print(format(y-x))"
      ],
      "execution_count": null,
      "outputs": [
        {
          "output_type": "stream",
          "text": [
            "2021-05-11 18:35:41.321753\n",
            "2021-05-11 18:35:41.323838\n",
            "0:00:00.002085\n"
          ],
          "name": "stdout"
        }
      ]
    },
    {
      "cell_type": "code",
      "metadata": {
        "id": "17XxTpxSOeDi"
      },
      "source": [
        ""
      ],
      "execution_count": null,
      "outputs": []
    }
  ]
}