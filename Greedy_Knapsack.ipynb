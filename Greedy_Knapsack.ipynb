{
  "nbformat": 4,
  "nbformat_minor": 0,
  "metadata": {
    "colab": {
      "name": "Greedy_Knapsack.ipynb",
      "provenance": [],
      "collapsed_sections": [],
      "authorship_tag": "ABX9TyOWyzwo6NEEui4zvdZxuKT6",
      "include_colab_link": true
    },
    "kernelspec": {
      "name": "python3",
      "display_name": "Python 3"
    },
    "language_info": {
      "name": "python"
    }
  },
  "cells": [
    {
      "cell_type": "markdown",
      "metadata": {
        "id": "view-in-github",
        "colab_type": "text"
      },
      "source": [
        "<a href=\"https://colab.research.google.com/github/Kanav-Jain/ADA--Lab-Analysis/blob/main/Greedy_Knapsack.ipynb\" target=\"_parent\"><img src=\"https://colab.research.google.com/assets/colab-badge.svg\" alt=\"Open In Colab\"/></a>"
      ]
    },
    {
      "cell_type": "code",
      "metadata": {
        "colab": {
          "base_uri": "https://localhost:8080/"
        },
        "id": "3LQev8wtinlR",
        "outputId": "4f9d1abd-1b05-4aee-f00b-1705cae5e0a8"
      },
      "source": [
        "#This function will make the xi's\n",
        "def Greedy_Knapsack(m,data):\n",
        "  n = len(data)\n",
        "  x = []\n",
        "  for i in range(n):\n",
        "    x.append(0.0)\n",
        "  U = m\n",
        "  for i in range(n):\n",
        "    if data[i][1] > U:\n",
        "      break\n",
        "    x[i] = 1\n",
        "    U = U - data[i][1] \n",
        "    if i == n-1:\n",
        "      i+=1\n",
        "  if i <= n-1:\n",
        "    x[i] = U/data[i][1]\n",
        "  return x   \n",
        "\n",
        "#This function is for p/w.\n",
        "def solution_on_ratio(m,data):\n",
        "  data1 = sorted(data, key = lambda s : s[0]/s[1], reverse = True)\n",
        "  x = Greedy_Knapsack(m,data1)\n",
        "  total_profit = 0\n",
        "  for i in range(len(data1)):\n",
        "    total_profit += (data1[i][0] * x[i])\n",
        "  return total_profit  \n",
        "\n",
        "#This function uses profit.\n",
        "def solution_on_profit(m,data):\n",
        "  data1 = sorted(data, key = lambda s : s[0], reverse = True)\n",
        "  x = Greedy_Knapsack(m,data1)\n",
        "  total_profit = 0\n",
        "  for i in range(len(data1)):\n",
        "    total_profit += (data1[i][0] * x[i])\n",
        "  return total_profit   \n",
        "\n",
        "#This function uses weight.\n",
        "def solution_on_weight(m,data):\n",
        "  data1 = sorted(data, key = lambda s : s[1], reverse = False)\n",
        "  x = Greedy_Knapsack(m,data1)\n",
        "  total_profit = 0\n",
        "  for i in range(len(data1)):\n",
        "    total_profit += (data1[i][0] * x[i])\n",
        "  return total_profit   \n",
        "\n",
        "\n",
        "\n",
        "Test_Cases = [[(25,18),(24,15),(15,10)], [(26,12),(20,15),(16,9)], [(20,15),(18,13),(20,14)]]\n",
        "for test_case in Test_Cases:\n",
        "  capacity = int(input(\"Enter the capacity of the knapsack here: \"))\n",
        "  print('If we consider the capcity used, the profit comes out to be: {:.2f}'.format(solution_on_weight(capacity,test_case)))\n",
        "  print('If we consider maximum profit first, the profit comes out to be: {:.2f}'.format(solution_on_profit(capacity,test_case)))\n",
        "  print('If we consider the ratio between profit and weight, the profit comes out to be: {:.2f}, which is maximum and hence this is an optimal solution'.format(solution_on_ratio(capacity,test_case)))   \n",
        "  print('\\n\\n')"
      ],
      "execution_count": null,
      "outputs": [
        {
          "output_type": "stream",
          "text": [
            "Enter the capacity of the knapsack here: 20\n",
            "If we consider the capcity used, the profit comes out to be: 31.00\n",
            "If we consider maximum profit first, the profit comes out to be: 28.20\n",
            "If we consider the ratio between profit and weight, the profit comes out to be: 31.50, which is maximum and hence this is an optimal solution\n",
            "\n",
            "\n",
            "\n",
            "Enter the capacity of the knapsack here: 20\n",
            "If we consider the capcity used, the profit comes out to be: 39.83\n",
            "If we consider maximum profit first, the profit comes out to be: 36.67\n",
            "If we consider the ratio between profit and weight, the profit comes out to be: 40.22, which is maximum and hence this is an optimal solution\n",
            "\n",
            "\n",
            "\n",
            "Enter the capacity of the knapsack here: 20\n",
            "If we consider the capcity used, the profit comes out to be: 28.00\n",
            "If we consider maximum profit first, the profit comes out to be: 27.14\n",
            "If we consider the ratio between profit and weight, the profit comes out to be: 28.31, which is maximum and hence this is an optimal solution\n",
            "\n",
            "\n",
            "\n"
          ],
          "name": "stdout"
        }
      ]
    },
    {
      "cell_type": "code",
      "metadata": {
        "id": "1g7g98pI6AUn"
      },
      "source": [
        ""
      ],
      "execution_count": null,
      "outputs": []
    },
    {
      "cell_type": "code",
      "metadata": {
        "id": "GBL72zcG6XTL"
      },
      "source": [
        ""
      ],
      "execution_count": null,
      "outputs": []
    }
  ]
}