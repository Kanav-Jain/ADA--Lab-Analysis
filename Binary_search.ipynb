{
  "nbformat": 4,
  "nbformat_minor": 0,
  "metadata": {
    "colab": {
      "name": "Binary_search.ipynb",
      "provenance": [],
      "collapsed_sections": []
    },
    "kernelspec": {
      "name": "python3",
      "display_name": "Python 3"
    },
    "language_info": {
      "name": "python"
    }
  },
  "cells": [
    {
      "cell_type": "code",
      "metadata": {
        "colab": {
          "base_uri": "https://localhost:8080/",
          "height": 475
        },
        "id": "qDkpKSP3L-Ux",
        "outputId": "2c76fdf5-8cb2-4ae2-ec43-f5de4ce4e386"
      },
      "source": [
        "def binary_search(arr,low,high,key):\n",
        "    if high>=low:\n",
        "        mid = (high+low)//2\n",
        "        if key == arr[mid]:\n",
        "            return mid\n",
        "        elif key<arr[mid]:\n",
        "            return binary_search(arr,low,mid-1,key)\n",
        "        elif key>arr[mid]:\n",
        "            return binary_search(arr, mid+1,high,key)\n",
        "    else:\n",
        "        return -1\n",
        "\n",
        "import time\n",
        "import random\n",
        "\n",
        "graph =[]\n",
        "avg = 100\n",
        "\n",
        "for arr_length in range(1000,11000,1000):\n",
        "    c = 0\n",
        "    t = 0\n",
        "    while c<avg:\n",
        "        n = 0\n",
        "        m = []\n",
        "        while n < arr_length:\n",
        "            m.append(random.randint(1,1000))\n",
        "            n += 1\n",
        "        arr = sorted(m)\n",
        "        start_time = time.time()\n",
        "        key = random.randint(1,1000)\n",
        "        result = binary_search(arr,0,arr_length-1,key)\n",
        "        end_time = time.time()\n",
        "        elapsed_time = (end_time - start_time)\n",
        "        c += 1\n",
        "        t += (elapsed_time)    \n",
        "    average_time = t/avg    \n",
        "    graph.append(average_time)\n",
        "    print( average_time)\n",
        " \n",
        "import matplotlib.pyplot as plt\n",
        "\n",
        "plt.plot(list(range(1000,11000,1000)),graph,marker='o')\n",
        "plt.xlabel('number of array elements')\n",
        "plt.ylabel('average time')\n"
      ],
      "execution_count": null,
      "outputs": [
        {
          "output_type": "stream",
          "text": [
            "7.586479187011719e-06\n",
            "9.250640869140624e-06\n",
            "9.992122650146484e-06\n",
            "1.1577606201171876e-05\n",
            "1.257181167602539e-05\n",
            "1.3606548309326172e-05\n",
            "1.4672279357910156e-05\n",
            "1.4560222625732422e-05\n",
            "1.528024673461914e-05\n",
            "1.565217971801758e-05\n"
          ],
          "name": "stdout"
        },
        {
          "output_type": "execute_result",
          "data": {
            "text/plain": [
              "Text(0, 0.5, 'average time')"
            ]
          },
          "metadata": {
            "tags": []
          },
          "execution_count": 4
        },
        {
          "output_type": "display_data",
          "data": {
            "image/png": "[encoded data removed]",
            "text/plain": [
              "<Figure size 432x288 with 1 Axes>"
            ]
          },
          "metadata": {
            "tags": [],
            "needs_background": "light"
          }
        }
      ]
    },
    {
      "cell_type": "code",
      "metadata": {
        "id": "3YQwpUSsM74x"
      },
      "source": [
        ""
      ],
      "execution_count": null,
      "outputs": []
    }
  ]
}