{
  "nbformat": 4,
  "nbformat_minor": 0,
  "metadata": {
    "colab": {
      "name": "Merge_SORT.ipynb",
      "provenance": [],
      "collapsed_sections": []
    },
    "kernelspec": {
      "name": "python3",
      "display_name": "Python 3"
    },
    "language_info": {
      "name": "python"
    }
  },
  "cells": [
    {
      "cell_type": "code",
      "metadata": {
        "colab": {
          "base_uri": "https://localhost:8080/",
          "height": 451
        },
        "id": "8Z2yz7AVlbkB",
        "outputId": "5b7a71bb-772a-4b84-a427-b3ec51491437"
      },
      "source": [
        "def mergeSort(arr,low,high):\n",
        "    if low + high > 1:\n",
        "        mid = (low + high)//2\n",
        "        left_arr = arr[:mid]\n",
        "        right_arr = arr[mid:]\n",
        "        mergeSort(left_arr, 0, len(left_arr)-1)\n",
        "        mergeSort(right_arr,0,len(right_arr)-1)\n",
        "        merge(arr,left_arr,right_arr)\n",
        " \n",
        "\n",
        "def merge(arr,left_arr,right_arr):\n",
        "    i = 0\n",
        "    j = 0\n",
        "    k = 0\n",
        "    while i < len(left_arr) and j < len(right_arr):\n",
        "        if left_arr[i] < right_arr[j]:\n",
        "            arr[k] = left_arr[i]\n",
        "            i += 1\n",
        "        else:\n",
        "            arr[k] = right_arr[j]\n",
        "            j += 1\n",
        "        k += 1\n",
        " \n",
        "    while i < len(left_arr):\n",
        "        arr[k] = left_arr[i]\n",
        "        i += 1\n",
        "        k += 1\n",
        " \n",
        "    while j < len(right_arr):\n",
        "        arr[k] = right_arr[j]\n",
        "        j += 1\n",
        "        k += 1\n",
        " \n",
        "import random\n",
        "import time\n",
        "from datetime import datetime\n",
        "\n",
        "avg = 100\n",
        "graph = []\n",
        "arr_length = list(range(100,1000,100))\n",
        "for i in arr_length:\n",
        "  c = 0\n",
        "  h = []\n",
        "  while c < avg:\n",
        "    n = 0\n",
        "    m = []\n",
        "    while n < i:\n",
        "        m.append(random.randint(1,1000))\n",
        "        n =  n+1\n",
        "    c = c+1 \n",
        "    start_time = datetime.now()\n",
        "    mergeSort(m,0,len(m)-1)\n",
        "    end_time = datetime.now()\n",
        "    elapsed_time = format(end_time-start_time)\n",
        "    h.append(elapsed_time.split('.')[1:])\n",
        "    r = list(map(''.join,h))\n",
        "    m = [int(i) for i in r]\n",
        "  graph.append(sum(m)/avg)\n",
        "  print(sum(m)/avg)\n",
        "import matplotlib.pyplot as plt\n",
        "plt.plot(arr_length,graph,marker='o')\n",
        "plt.xlabel('number of array elements')\n",
        "plt.ylabel('average time')\n",
        "plt.ylim(0,10000,1000)"
      ],
      "execution_count": null,
      "outputs": [
        {
          "output_type": "stream",
          "text": [
            "293.6\n",
            "619.09\n",
            "1074.55\n",
            "1461.74\n",
            "1824.01\n",
            "2348.61\n",
            "2861.17\n",
            "3182.29\n",
            "3851.11\n"
          ],
          "name": "stdout"
        },
        {
          "output_type": "execute_result",
          "data": {
            "text/plain": [
              "(0.0, 10000.0)"
            ]
          },
          "metadata": {
            "tags": []
          },
          "execution_count": 8
        },
        {
          "output_type": "display_data",
          "data": {
            "image/png": "[encoded data removed]",
            "text/plain": [
              "<Figure size 432x288 with 1 Axes>"
            ]
          },
          "metadata": {
            "tags": [],
            "needs_background": "light"
          }
        }
      ]
    }
  ]
}