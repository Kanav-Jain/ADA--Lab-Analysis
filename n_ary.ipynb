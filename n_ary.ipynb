{
  "nbformat": 4,
  "nbformat_minor": 0,
  "metadata": {
    "colab": {
      "name": "n ary.ipynb",
      "provenance": [],
      "collapsed_sections": []
    },
    "kernelspec": {
      "name": "python3",
      "display_name": "Python 3"
    },
    "language_info": {
      "name": "python"
    }
  },
  "cells": [
    {
      "cell_type": "code",
      "metadata": {
        "colab": {
          "base_uri": "https://localhost:8080/",
          "height": 265
        },
        "id": "ec8dgfF6EWxP",
        "outputId": "6a7cbaaa-00f0-4d5c-b9a1-4b669801d1d0"
      },
      "source": [
        "def Linear_Search(arr,l,h,key):\n",
        "  for i in range(l,h+1):\n",
        "\n",
        "    if arr[i] == key:\n",
        "      return i\n",
        "  return -1  \n",
        "\n",
        "def n_arr(arr,n_parts,low,high,key):\n",
        "  no_elements = high - low + 1\n",
        "  n_cuts = n_parts - 1\n",
        "  part = -1\n",
        "  cuts = []\n",
        "  if no_elements >= n_parts:\n",
        "    for i in range(n_cuts):\n",
        "      cut = low + (no_elements//n_parts) * (i+1)\n",
        "      cuts.append(cut)\n",
        "\n",
        "    for i in range(n_cuts):\n",
        "      if arr[cuts[i]] == key:\n",
        "        return cuts[i]\n",
        "      elif arr[cuts[i]] > key:\n",
        "        part = i\n",
        "        break\n",
        "\n",
        "    if part == -1:\n",
        "      part = n_parts - 1 \n",
        "    if part == 0:\n",
        "      return n_arr(arr,n_parts,low,cuts[0]-1,key) \n",
        "\n",
        "    else:\n",
        "    \n",
        "      if part == n_parts-1:\n",
        "        return n_arr(arr,n_parts,cuts[n_cuts-1]+1,high,key)\n",
        "      else:\n",
        "        return n_arr(arr,n_parts,cuts[part-1]+1,cuts[part]-1,key)  \n",
        "\n",
        "  else:\n",
        "    return Linear_Search(arr,low,high,key)\n",
        "\n",
        "import random\n",
        "li=[7000,10000,12000]\n",
        "\n",
        "for j in li:\n",
        "  array=[]\n",
        "  i=0\n",
        "  \n",
        "  while i<j:\n",
        "    a=random.randint(1,100000)\n",
        "    array.append(a)\n",
        "    i=i+1\n",
        "  myList=sorted(array)\n",
        "\n",
        "  h=[]\n",
        "  \n",
        "  from datetime import datetime\n",
        "  items = list(range(2,20,1))\n",
        "  \n",
        "  for parts in items:\n",
        "    start_time=datetime.now()\n",
        "    key=random.choice(myList)\n",
        "    k=n_arr(array,parts,0,len(array),key)\n",
        "    end_time=datetime.now()\n",
        "    d=format(end_time-start_time)\n",
        "    h.append(d.split('.')[1:])\n",
        "    r= list(map(''.join,h))\n",
        "    m=[int(i) for i in r]\n",
        "\n",
        "  import matplotlib.pyplot as plt\n",
        "  plt.plot(items,m)\n",
        "  \n"
      ],
      "execution_count": null,
      "outputs": [
        {
          "output_type": "display_data",
          "data": {
            "image/png": "[encoded data removed]",
            "text/plain": [
              "<Figure size 432x288 with 1 Axes>"
            ]
          },
          "metadata": {
            "tags": [],
            "needs_background": "light"
          }
        }
      ]
    },
    {
      "cell_type": "code",
      "metadata": {
        "id": "ForajNLk2E-U"
      },
      "source": [
        ""
      ],
      "execution_count": null,
      "outputs": []
    },
    {
      "cell_type": "code",
      "metadata": {
        "id": "L1qPhVNwhrHT"
      },
      "source": [
        ""
      ],
      "execution_count": null,
      "outputs": []
    }
  ]
}